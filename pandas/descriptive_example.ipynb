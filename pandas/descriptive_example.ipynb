{
 "metadata": {
  "name": "",
  "signature": "sha256:43b12c6a7c1bc2be6d22169b915270cb7c590a58e7f860ef4cb381890a8c1df5"
 },
 "nbformat": 3,
 "nbformat_minor": 0,
 "worksheets": [
  {
   "cells": [
    {
     "cell_type": "heading",
     "level": 1,
     "metadata": {},
     "source": [
      "Descriptive Stats of Tweet File"
     ]
    },
    {
     "cell_type": "markdown",
     "metadata": {},
     "source": [
      "Load the necessary libraries"
     ]
    },
    {
     "cell_type": "code",
     "collapsed": false,
     "input": [
      "%pylab inline\n",
      "import matplotlib.pyplot as plt\n",
      "import pandas as pd\n",
      "import simplejson\n",
      "from collections import Counter"
     ],
     "language": "python",
     "metadata": {},
     "outputs": [
      {
       "output_type": "stream",
       "stream": "stdout",
       "text": [
        "Populating the interactive namespace from numpy and matplotlib\n"
       ]
      }
     ],
     "prompt_number": 3
    },
    {
     "cell_type": "markdown",
     "metadata": {},
     "source": [
      "The following code loops through the file with Twitter JSON. Since pandas doesn't like to work with nested dictionaries, we pull out the nested metadata we want to analyze before creating the data frame."
     ]
    },
    {
     "cell_type": "code",
     "collapsed": false,
     "input": [
      "file = open('/var/data/example_tweets.json')\n",
      "tweets = []\n",
      "\n",
      "# Create a counter of users, hashtags, URLs\n",
      "users = Counter()\n",
      "hashtags = Counter()\n",
      "mentions = Counter()\n",
      "\n",
      "for line in file:\n",
      "    # Load each line of JSON\n",
      "    tweet = simplejson.loads(line)\n",
      "    if 'user' in tweet:\n",
      "        users.update({tweet['user']['screen_name']:1})\n",
      "\n",
      "        tweet['screen_name'] = tweet['user']['screen_name']\n",
      "\n",
      "        # Pull out the user's followers_count\n",
      "        tweet['followers_count'] = tweet['user']['followers_count']\n",
      "\n",
      "        # Convert the text timestamp to a datetime object\n",
      "        tweet['created_at'] = pd.to_datetime(tweet['created_at'])\n",
      "\n",
      "        # Create a list of hashtags\n",
      "        for ht in tweet['entities']['hashtags']:\n",
      "            # Why do we want to lowercase the hashtags?\n",
      "            hashtags.update({ht['text'].lower(): 1})\n",
      "            \n",
      "        tweet['hashtag_count'] = len(tweet['entities']['hashtags'])\n",
      "\n",
      "        # Create a list of mentions\n",
      "        tweet['mentions'] = []\n",
      "        for mention in tweet['entities']['user_mentions']:\n",
      "            mentions.update({mention['screen_name']:1})\n",
      "        \n",
      "        tweet['mention_count'] = len(tweet['entities']['user_mentions'])\n",
      "\n",
      "        # Create a list of urls\n",
      "        tweet['url_count'] = len(tweet['entities']['urls'])\n",
      "\n",
      "        # Append the modified tweet to our array of tweets\n",
      "        tweets.append(tweet)\n",
      "df = pd.DataFrame(tweets)"
     ],
     "language": "python",
     "metadata": {},
     "outputs": [],
     "prompt_number": 76
    },
    {
     "cell_type": "heading",
     "level": 1,
     "metadata": {},
     "source": [
      "Descriptive Stats"
     ]
    },
    {
     "cell_type": "heading",
     "level": 4,
     "metadata": {},
     "source": [
      "1. Graph the volume of tweets over time."
     ]
    },
    {
     "cell_type": "code",
     "collapsed": false,
     "input": [
      "df.created_at.groupby([df.created_at.dt.hour]).agg('count').plot()"
     ],
     "language": "python",
     "metadata": {},
     "outputs": [
      {
       "metadata": {},
       "output_type": "pyout",
       "prompt_number": 138,
       "text": [
        "<matplotlib.axes.AxesSubplot at 0x7fe925f311d0>"
       ]
      },
      {
       "metadata": {},
       "output_type": "display_data",
       "png": "[encoded data removed]",
       "text": [
        "<matplotlib.figure.Figure at 0x7fe925efb198>"
       ]
      }
     ],
     "prompt_number": 138
    },
    {
     "cell_type": "code",
     "collapsed": false,
     "input": [
      "df.created_at.dt.hour.value_counts()"
     ],
     "language": "python",
     "metadata": {},
     "outputs": [
      {
       "metadata": {},
       "output_type": "pyout",
       "prompt_number": 134,
       "text": [
        "1     1630\n",
        "2     1626\n",
        "3      507\n",
        "0      218\n",
        "4      204\n",
        "5       78\n",
        "14      61\n",
        "23      58\n",
        "6       57\n",
        "13      56\n",
        "11      46\n",
        "15      45\n",
        "12      44\n",
        "18      40\n",
        "17      39\n",
        "16      37\n",
        "21      32\n",
        "20      29\n",
        "22      28\n",
        "10      27\n",
        "7       26\n",
        "19      21\n",
        "9       15\n",
        "8       14\n",
        "dtype: int64"
       ]
      }
     ],
     "prompt_number": 134
    },
    {
     "cell_type": "heading",
     "level": 4,
     "metadata": {},
     "source": [
      "2. Total number of tweets"
     ]
    },
    {
     "cell_type": "code",
     "collapsed": false,
     "input": [
      "len(df)"
     ],
     "language": "python",
     "metadata": {},
     "outputs": [
      {
       "metadata": {},
       "output_type": "pyout",
       "prompt_number": 53,
       "text": [
        "4938"
       ]
      }
     ],
     "prompt_number": 53
    },
    {
     "cell_type": "heading",
     "level": 4,
     "metadata": {},
     "source": [
      "3. Total number of unique users"
     ]
    },
    {
     "cell_type": "code",
     "collapsed": false,
     "input": [
      "df['screen_name'].nunique()"
     ],
     "language": "python",
     "metadata": {},
     "outputs": [
      {
       "metadata": {},
       "output_type": "pyout",
       "prompt_number": 54,
       "text": [
        "4856"
       ]
      }
     ],
     "prompt_number": 54
    },
    {
     "cell_type": "heading",
     "level": 4,
     "metadata": {},
     "source": [
      "4. Total number of unique hashtags"
     ]
    },
    {
     "cell_type": "code",
     "collapsed": false,
     "input": [
      "len(hashtags)"
     ],
     "language": "python",
     "metadata": {},
     "outputs": [
      {
       "metadata": {},
       "output_type": "pyout",
       "prompt_number": 55,
       "text": [
        "840"
       ]
      }
     ],
     "prompt_number": 55
    },
    {
     "cell_type": "heading",
     "level": 4,
     "metadata": {},
     "source": [
      "5. Graph of follower counts"
     ]
    },
    {
     "cell_type": "code",
     "collapsed": false,
     "input": [
      "df.followers_count.value_counts().plot()"
     ],
     "language": "python",
     "metadata": {},
     "outputs": [
      {
       "metadata": {},
       "output_type": "pyout",
       "prompt_number": 152,
       "text": [
        "<matplotlib.axes.AxesSubplot at 0x7fe925bf5c18>"
       ]
      },
      {
       "metadata": {},
       "output_type": "display_data",
       "png": "[encoded data removed]",
       "text": [
        "<matplotlib.figure.Figure at 0x7fe925bf59b0>"
       ]
      }
     ],
     "prompt_number": 152
    },
    {
     "cell_type": "heading",
     "level": 4,
     "metadata": {},
     "source": [
      "6. Number of URLS in each tweet with histogram"
     ]
    },
    {
     "cell_type": "code",
     "collapsed": false,
     "input": [
      "df.url_count.hist()"
     ],
     "language": "python",
     "metadata": {},
     "outputs": [
      {
       "metadata": {},
       "output_type": "pyout",
       "prompt_number": 130,
       "text": [
        "<matplotlib.axes.AxesSubplot at 0x7fe925d823c8>"
       ]
      },
      {
       "metadata": {},
       "output_type": "display_data",
       "png": "[encoded data removed]",
       "text": [
        "<matplotlib.figure.Figure at 0x7fe925bcfe80>"
       ]
      }
     ],
     "prompt_number": 130
    },
    {
     "cell_type": "code",
     "collapsed": false,
     "input": [
      "df.url_count.value_counts()"
     ],
     "language": "python",
     "metadata": {},
     "outputs": [
      {
       "metadata": {},
       "output_type": "pyout",
       "prompt_number": 149,
       "text": [
        "0    4257\n",
        "1     672\n",
        "2       9\n",
        "dtype: int64"
       ]
      }
     ],
     "prompt_number": 149
    },
    {
     "cell_type": "heading",
     "level": 4,
     "metadata": {},
     "source": [
      "7. Number of hashtags in each tweet with histogram"
     ]
    },
    {
     "cell_type": "code",
     "collapsed": false,
     "input": [
      "df.hashtag_count.hist()"
     ],
     "language": "python",
     "metadata": {},
     "outputs": [
      {
       "metadata": {},
       "output_type": "pyout",
       "prompt_number": 148,
       "text": [
        "<matplotlib.axes.AxesSubplot at 0x7fe92549ff60>"
       ]
      },
      {
       "metadata": {},
       "output_type": "display_data",
       "png": "[encoded data removed]",
       "text": [
        "<matplotlib.figure.Figure at 0x7fe9221977b8>"
       ]
      }
     ],
     "prompt_number": 148
    },
    {
     "cell_type": "code",
     "collapsed": false,
     "input": [
      "df.hashtag_count.value_counts()"
     ],
     "language": "python",
     "metadata": {},
     "outputs": [
      {
       "metadata": {},
       "output_type": "pyout",
       "prompt_number": 129,
       "text": [
        "1     2437\n",
        "0     1317\n",
        "2      828\n",
        "3      230\n",
        "4       70\n",
        "5       38\n",
        "7        9\n",
        "6        5\n",
        "12       2\n",
        "17       1\n",
        "8        1\n",
        "dtype: int64"
       ]
      }
     ],
     "prompt_number": 129
    },
    {
     "cell_type": "heading",
     "level": 4,
     "metadata": {},
     "source": [
      "8. Top 20 users mentioned"
     ]
    },
    {
     "cell_type": "code",
     "collapsed": false,
     "input": [
      "mentions.most_common(20)"
     ],
     "language": "python",
     "metadata": {},
     "outputs": [
      {
       "metadata": {},
       "output_type": "pyout",
       "prompt_number": 72,
       "text": [
        "[('chrisrockoz', 166),\n",
        " ('BarackObama', 132),\n",
        " ('MittRomney', 125),\n",
        " ('politifact', 88),\n",
        " ('HuffingtonPost', 88),\n",
        " ('KarlRove', 76),\n",
        " ('RomneyResponse', 63),\n",
        " ('DickMorrisTweet', 54),\n",
        " ('OnionPolitics', 54),\n",
        " ('RepubGrlProbs', 40),\n",
        " ('WayneRooney', 33),\n",
        " ('GOP', 31),\n",
        " ('indecision', 29),\n",
        " ('MichaelSkolnik', 29),\n",
        " ('gov', 29),\n",
        " ('darthvader', 27),\n",
        " ('TeamRomney', 27),\n",
        " ('ladygaga', 26),\n",
        " ('YahooNews', 22),\n",
        " ('cracked', 22)]"
       ]
      }
     ],
     "prompt_number": 72
    },
    {
     "cell_type": "heading",
     "level": 4,
     "metadata": {},
     "source": [
      "9. Top 10 hashtags besides #debates"
     ]
    },
    {
     "cell_type": "code",
     "collapsed": false,
     "input": [
      "# Using the list of hashtags we created above\n",
      "hashtags.most_common(21)[1:]"
     ],
     "language": "python",
     "metadata": {},
     "outputs": [
      {
       "metadata": {},
       "output_type": "pyout",
       "prompt_number": 75,
       "text": [
        "[('lynndebate', 129),\n",
        " ('debate', 104),\n",
        " ('romney', 99),\n",
        " ('obama', 94),\n",
        " ('tcot', 81),\n",
        " ('cantafford4more', 72),\n",
        " ('stopndaa', 45),\n",
        " ('horsesandbayonets', 39),\n",
        " ('romneyryan2012', 38),\n",
        " ('debate2012', 38),\n",
        " ('mockthevote', 28),\n",
        " ('p2', 27),\n",
        " ('election2012', 26),\n",
        " ('de', 26),\n",
        " ('finaldebate', 25),\n",
        " ('debates2012', 24),\n",
        " ('hp2012', 22),\n",
        " ('bears', 19),\n",
        " ('horsesandba', 19),\n",
        " ('obama2012', 19)]"
       ]
      }
     ],
     "prompt_number": 75
    },
    {
     "cell_type": "code",
     "collapsed": false,
     "input": [],
     "language": "python",
     "metadata": {},
     "outputs": []
    }
   ],
   "metadata": {}
  }
 ]
}